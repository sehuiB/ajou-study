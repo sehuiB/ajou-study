{
 "cells": [
  {
   "cell_type": "markdown",
   "metadata": {},
   "source": [
    "# (Optional) 웹 크롤링2 - Dynamic Crawling"
   ]
  },
  {
   "cell_type": "markdown",
   "metadata": {},
   "source": [
    "# 0. 라이브러리"
   ]
  },
  {
   "cell_type": "code",
   "execution_count": 53,
   "metadata": {},
   "outputs": [],
   "source": [
    "from selenium import webdriver\n",
    "from selenium.webdriver.common.by import By\n",
    "from selenium.webdriver.support.ui import WebDriverWait\n",
    "from selenium.webdriver.support import expected_conditions as EC\n",
    "from bs4 import BeautifulSoup\n",
    "import pandas as pd\n",
    "from pandas import DataFrame\n",
    "import time\n",
    "#모듈, 패키지 등 불러오기"
   ]
  },
  {
   "cell_type": "markdown",
   "metadata": {},
   "source": [
    "# 1. Selenium 기초\n",
    "자신의 크롬 버전을 확인하고 크롬 웹드라이버를 다운받아놓아야합니다.\n",
    "\n",
    "* 2020.09.13 기준 최신 버전: ```85.0.4183.102```\n",
    "\n",
    "## 1.1. Simple Text Crawling\n",
    "멜론 사이트에서 노래 제목을 크롤링해보자\n",
    "\n",
    "URL: https://www.melon.com/chart/index.htm"
   ]
  },
  {
   "cell_type": "code",
   "execution_count": 62,
   "metadata": {},
   "outputs": [],
   "source": [
    "DRIVER_PATH = 'C:/Users/user/Downloads/chromedriver_win32/chromedriver.exe' #경로 설정"
   ]
  },
  {
   "cell_type": "code",
   "execution_count": 65,
   "metadata": {},
   "outputs": [
    {
     "data": {
      "text/plain": [
       "'STAY\\nThe Kid LAROI, Justin Bieber'"
      ]
     },
     "execution_count": 65,
     "metadata": {},
     "output_type": "execute_result"
    }
   ],
   "source": [
    " # chrome driver 설정\n",
    "driver = webdriver.Chrome(DRIVER_PATH) \n",
    "driver.implicitly_wait(10)\n",
    "\n",
    "url = \"https://www.melon.com/chart/index.htm\" #url 할당\n",
    "\n",
    "driver.get(url) #브라우저가 url 얻음\n",
    "html = driver.page_source #웹페이지의 소스 가져오기\n",
    "soup = BeautifulSoup(html, 'html.parser') #객체 생성\n",
    "\n",
    "# title crawling\n",
    "title = WebDriverWait(driver, 20) \\\n",
    "    .until(EC.presence_of_element_located((By.CSS_SELECTOR, \"#frm > div > table > tbody > tr:nth-child(1) > td:nth-child(6) > div > div\")))\n",
    "#내가 지정한 요소가 다 뜰 때 까지 driver를 20초 기다림\n",
    "#6번째로 바뀜\n",
    "# print(\"Title: {}\".format(title.text))\n",
    "\n",
    "title.text"
   ]
  },
  {
   "cell_type": "markdown",
   "metadata": {},
   "source": []
  },
  {
   "cell_type": "markdown",
   "metadata": {},
   "source": [
    "css selector의 규칙을 찾아본다\n",
    "\n",
    "* 1번째 제목: #frm > div > table > tbody > tr:nth-child(1) > td:nth-child(4) > div > div\"\n",
    "* 2번째 제목: #frm > div > table > tbody > tr:nth-child(2) > td:nth-child(4) > div > div\n",
    ". . .\n",
    "\n",
    "* 100번째 제목: #frm > div > table > tbody > tr:nth-child(100) > td:nth-child(4) > div > div\n",
    "또는 XPATH로도 확인해보자 (full Xpath)\n",
    "\n",
    "* 1번째 제목: //*[@id=\"frm\"]/div/table/tbody/tr[1]/td[4]/div/div\n",
    "* 2번째 제목: //*[@id=\"frm\"]/div/table/tbody/tr[2]/td[4]/div/div\n",
    ". . .\n",
    "\n",
    "* 50번째 제목: //*[@id=\"frm\"]/div/table/tbody/tr[100]/td[4]/div/div"
   ]
  },
  {
   "cell_type": "code",
   "execution_count": 67,
   "metadata": {},
   "outputs": [
    {
     "data": {
      "text/plain": [
       "'My Universe\\nColdplay, 방탄소년단'"
      ]
     },
     "execution_count": 67,
     "metadata": {},
     "output_type": "execute_result"
    }
   ],
   "source": [
    "# 2번째 제목 크롤링\n",
    "WebDriverWait(driver, 20) \\\n",
    "    .until(EC.presence_of_element_located((By.XPATH, \"//*[@id='frm']/div/table/tbody/tr[2]/td[6]/div/div\"))).text"
   ]
  },
  {
   "cell_type": "markdown",
   "metadata": {},
   "source": [
    "## 1.2. Text Crawling with for loop\n",
    "위에서 찾은 Xpath의 규칙을 바탕으로 for loop 만들자"
   ]
  },
  {
   "cell_type": "code",
   "execution_count": 69,
   "metadata": {},
   "outputs": [
    {
     "name": "stdout",
     "output_type": "stream",
     "text": [
      "['STAY\\nThe Kid LAROI, Justin Bieber', 'My Universe\\nColdplay, 방탄소년단', '신호등\\n이무진', 'OHAYO MY NIGHT\\n디핵 (D-Hack), PATEKO (파테코)', 'Permission to Dance\\n방탄소년단', 'Next Level\\naespa', 'Butter\\n방탄소년단', '바라만 본다\\nMSG워너비(M.O.M)', 'Weekend\\n태연 (TAEYEON)', '낙하 (with 아이유)\\nAKMU (악뮤)', '이제 나만 믿어요\\n임영웅', 'Dynamite\\n방탄소년단', 'Queendom\\nRed Velvet (레드벨벳)', '시간을 거슬러 (낮에 뜨는 달 X 케이윌)\\n케이윌', '다정히 내 이름을 부르면\\n경서예지, 전건호', 'Sticker\\nNCT 127', 'DUMB DUMB\\n전소미', '좋아좋아\\n조정석', 'Peaches (Feat. Daniel Caesar & Giveon)\\nJustin Bieber', 'Bad Habits\\nEd Sheeran', '가을 타나 봐\\n이무진', '별빛 같은 나의 사랑아\\n임영웅', '헤픈 우연\\n헤이즈 (Heize)', 'HERO\\n임영웅', '그대라는 사치\\n임영웅', '다시 사랑한다면 (김필 Ver.)\\n임영웅', 'Lemonade\\nNCT 127', '끝사랑\\n임영웅', '고백\\n멜로망스', '고백\\n어반자카파', 'Bk Love\\n임영웅', '잊었니\\n임영웅', '비와 당신\\n이무진', '찰나가 영원이 될 때 (The Eternal Moment)\\n마크툽 (MAKTUB)', 'Savage Love (Laxed - Siren Beat) (BTS Remix)\\nJawsh 685, Jason Derulo, 방탄소년단', '색안경 (STEREOTYPE)\\nSTAYC(스테이씨)', '작은 것들을 위한 시 (Boy With Luv) (Feat. Halsey)\\n방탄소년단', '미워요\\n임영웅', 'Road Trip\\nNCT 127', \"롤린 (Rollin')\\n브레이브걸스\", '라일락\\n아이유', '사랑의 아픔 딛고\\n임영웅', 'Dun Dun Dance\\n오마이걸 (OH MY GIRL)', '계단말고 엘리베이터\\n임영웅', 'ASAP\\nSTAYC(스테이씨)', '사이렌 Remix (Feat. UNEDUCATED KID, Paul Blanco)\\n호미들', '봄날\\n방탄소년단', '너를 생각해\\n주시크 (Joosiq)', 'Celebrity\\n아이유', '내일의 나에게 (The Rainy Night)\\nNCT 127']\n"
     ]
    }
   ],
   "source": [
    " # chrome driver 설정\n",
    "driver = webdriver.Chrome(DRIVER_PATH)\n",
    "driver.implicitly_wait(10)\n",
    "\n",
    "#url 열기\n",
    "url = \"https://www.melon.com/chart/index.htm\"\n",
    "\n",
    "driver.get(url)\n",
    "html = driver.page_source\n",
    "soup = BeautifulSoup(html, 'html.parser')\n",
    "\n",
    "# 빈 리스트 변수\n",
    "title_list = []\n",
    "\n",
    "# title crawling (TOP 50)\n",
    "#1~50까지 반복\n",
    "#내가 지정한 요소를 title에 추가하고 text를 list 뒤에 추가\n",
    "#td 4->6번째로 바뀜\n",
    "for i in range(1, 51):\n",
    "    title = WebDriverWait(driver, 20) \\\n",
    "        .until(EC.presence_of_element_located((By.XPATH, f\"//*[@id='frm']/div/table/tbody/tr[{i}]/td[6]/div/div\")))\n",
    "    title_list.append(title.text)\n",
    "    \n",
    "print(title_list)\n"
   ]
  },
  {
   "cell_type": "markdown",
   "metadata": {},
   "source": [
    "### 1.3. Text Crawling (Click & Back)\n",
    "클릭하고 나오기 -> 동적 크롤링 가능 (가사 크롤링 가능)\n",
    "\n",
    "노래 제목에 링크가 걸려있기 때문에, 해당 링크까지의 XPath를 추가한다."
   ]
  }
 ],
 "metadata": {
  "kernelspec": {
   "display_name": "Python 3",
   "language": "python",
   "name": "python3"
  },
  "language_info": {
   "codemirror_mode": {
    "name": "ipython",
    "version": 3
   },
   "file_extension": ".py",
   "mimetype": "text/x-python",
   "name": "python",
   "nbconvert_exporter": "python",
   "pygments_lexer": "ipython3",
   "version": "3.8.3"
  }
 },
 "nbformat": 4,
 "nbformat_minor": 4
}
