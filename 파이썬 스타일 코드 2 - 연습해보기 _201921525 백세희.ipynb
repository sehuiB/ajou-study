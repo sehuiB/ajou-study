{
 "cells": [
  {
   "cell_type": "markdown",
   "metadata": {},
   "source": [
    "# 파이썬 스타일 코드 2 - 연습해보기"
   ]
  },
  {
   "cell_type": "markdown",
   "metadata": {},
   "source": [
    "# 실습코드\n",
    "------------"
   ]
  },
  {
   "cell_type": "markdown",
   "metadata": {},
   "source": [
    "## 1. 람다함수\n",
    "\n",
    " * 람다(lambda) 함수는 함수의 이름 없이, 함수처럼 사용할 수 있는 익명의 함수를 말한다. 선형대수나 미적분 등의 과목을 수강하다 보면, 한 번쯤 람다 대수라는 표현을 들어 보았을 것이다. 람다 함수의 '람다'는 바로 이 람다 대수에서 유래하였다. 일반적으로 람다 함수는 이름을 지정하지 않아도 사용할 수 있다.\n",
    "\n",
    "### 1.1. 기존 함수"
   ]
  },
  {
   "cell_type": "code",
   "execution_count": 1,
   "metadata": {},
   "outputs": [
    {
     "name": "stdout",
     "output_type": "stream",
     "text": [
      "5\n"
     ]
    }
   ],
   "source": [
    "def f(x,y): # x와 y를 매개변수로 갖는 함수를 만든다.\n",
    "    return x + y # x + y 의 값을 반환한다.\n",
    "\n",
    "print(f(1,4)) #1과 4를 각각 x와 y의 인수로 넣고 함수의 결과값을 출력한다."
   ]
  },
  {
   "cell_type": "markdown",
   "metadata": {},
   "source": [
    "### 1.2. lambda 함수 할당"
   ]
  },
  {
   "cell_type": "code",
   "execution_count": 2,
   "metadata": {},
   "outputs": [
    {
     "name": "stdout",
     "output_type": "stream",
     "text": [
      "5\n"
     ]
    }
   ],
   "source": [
    "f=lambda x,y: x + y #lambda 함수는 '매개변수 : 표현식' 형태이다. x와 y를 매개변수고 갖고 x + y의 값을 반환하는 lambda 함수를 f에 할당한다.\n",
    "print(f(1,4)) #1과 4를 각각 x와 y의 인수로 넣고 함수의 결과값을 출력한다."
   ]
  },
  {
   "cell_type": "markdown",
   "metadata": {},
   "source": [
    "### 1.3. 익명의 lambda 함수"
   ]
  },
  {
   "cell_type": "code",
   "execution_count": 3,
   "metadata": {},
   "outputs": [
    {
     "name": "stdout",
     "output_type": "stream",
     "text": [
      "5\n"
     ]
    }
   ],
   "source": [
    "print((lambda x, y:x + y)(1, 4)) #x와 y를 매개변수고 갖고 x + y의 값을 반환하는 lambda 함수에 1과 4를 각각 x와 y의 인수로 넣고 함수의 결과값을 출력한다."
   ]
  },
  {
   "cell_type": "markdown",
   "metadata": {},
   "source": [
    "## 2. 맵리듀스\n",
    "\n",
    "### 2.1. map 함수\n",
    "\n",
    "연속 데이터를 저장하는 시퀀스 자료형에서 요소마다 같은 기능을 적용할 때 사용한다. 일반적으로 리스트나 튜플처럼 요소가 있는 시퀀스 자료형에 사용된다. 다음의 사용 예제를 보자.\n"
   ]
  },
  {
   "cell_type": "code",
   "execution_count": 4,
   "metadata": {},
   "outputs": [
    {
     "name": "stdout",
     "output_type": "stream",
     "text": [
      "[1, 4, 9, 16, 25]\n"
     ]
    }
   ],
   "source": [
    "ex = [1,2,3,4,5] #ex에 리스트를 할당한다.\n",
    "f = lambda x:x**2 #f에 x를 매개변수로 갖고 x**2 값을 반환하는 lambda함수를 할당한다.\n",
    "print(list(map(f, ex))) #f 함수에 ex 리스트에 있는 요소들을 하나씩 인자로 넣고 그 값들을 새로운 리스트로 만들어서 출력한다."
   ]
  },
  {
   "cell_type": "markdown",
   "metadata": {},
   "source": [
    "* 코드 설명\n",
    " * 위 코드에서는 먼저 ex라는 이름의 리스트를 만들고, 입력된 값을 제곱하는 람다함수 f를 생성하였다. 그리고 'map(함수이름, 리스트 데이터)'의 구조에서 map(f,ex) 코드를 실행한다. 이는 해당 코드로 함수 f를 ex의 각 요소에 매핑하라는 뜻이다.\n",
    " * 파이썬 2.x와 3.x의 차이는 제너레이터의 사용인데 3.x 부터는 map()함수의 기본 반환이 제너레이터이므로 list() 함수를 사용해야 리스트로 반환된다.\n",
    " * 제너레이터(generator)는 시퀀스 자료형의 데이터를 처리할 때, 실행 시점의 값을 생성하여 효율적으로 메모리를 관리할 수 있다는 장점이 있따.\n",
    " * 만일 list를 붙이지 않는다면, 다음 코드처럼 코딩할 수도 있다. 여기서 함수는 반드시 람다함수일 필요는 없고, 일반 함수를 만들어 사용해도 문제 없다."
   ]
  },
  {
   "cell_type": "code",
   "execution_count": 5,
   "metadata": {},
   "outputs": [
    {
     "name": "stdout",
     "output_type": "stream",
     "text": [
      "1\n",
      "4\n",
      "9\n",
      "16\n",
      "25\n"
     ]
    }
   ],
   "source": [
    "ex=[1,2,3,4,5] #ex에 리스트를 할당한다. \n",
    "f=lambda x:x**2 # x를 매개변수로 갖고 x**2 값을 반환하는 lambda 함수를 f에 할당한다. \n",
    "for value in map(f,ex): # value에 함수 f를 ex 리스트의 각 요소에 매핑한 값들을 반복해서 넣는다. \n",
    "    print(value) # value 값을 출력한다."
   ]
  },
  {
   "cell_type": "markdown",
   "metadata": {},
   "source": [
    "* 리스트 컴프리헨션과 비교\n",
    "\n",
    "최근에는 람다함수나 map() 함수를 프로그램 개발에 사용하는 것을 권장하지 않는다. 굳이 두 함수를 쓰지 않더라도 리스트 컴프리헨션 기법으로 얼마든지 같은 효과를 낼 수 있기 때문이다. 만약 위 코드를 리스트 컴프리헨션으로 변경하고자 한다면, 다음처럼 코딩하면 된다."
   ]
  },
  {
   "cell_type": "code",
   "execution_count": 6,
   "metadata": {},
   "outputs": [
    {
     "data": {
      "text/plain": [
       "[1, 4, 9, 16, 25]"
      ]
     },
     "execution_count": 6,
     "metadata": {},
     "output_type": "execute_result"
    }
   ],
   "source": [
    "ex = [1, 2, 3, 4, 5] #ex에 리스트를 할당한다. \n",
    "[x**2 for x in ex] #ex 리스트의 요소들을 하나씩 x에 반복하여 넣고 x**2 값들을 새로운 리스트로 만들어 출력한다."
   ]
  },
  {
   "cell_type": "markdown",
   "metadata": {},
   "source": [
    "* 한개 이상의 시퀀스 자료형 데이터의 처리\n",
    "\n",
    "map()함수는 2개 이상의 시퀀스 자료형 데이터를 처리하는 데도 문제가 없다."
   ]
  },
  {
   "cell_type": "code",
   "execution_count": 7,
   "metadata": {},
   "outputs": [
    {
     "data": {
      "text/plain": [
       "[2, 4, 6, 8, 10]"
      ]
     },
     "execution_count": 7,
     "metadata": {},
     "output_type": "execute_result"
    }
   ],
   "source": [
    "ex=[1,2,3,4,5] #ex에 리스트를 할당한다. \n",
    "f=lambda x,y:x+y # x와 y를 매개변수로 갖고 x + y 값을 반환하는 lambda 함수를 f에 할당한다.\n",
    "list(map(f,ex,ex)) #ex 리스트의 요소들을 각각 함수 f의 x와 y에 하나씩 반복해서 넣고 각 결과값들을 새로운 리스트로 묶어서 반환한다."
   ]
  },
  {
   "cell_type": "code",
   "execution_count": 8,
   "metadata": {
    "scrolled": true
   },
   "outputs": [
    {
     "data": {
      "text/plain": [
       "[2, 4, 6, 8, 10]"
      ]
     },
     "execution_count": 8,
     "metadata": {},
     "output_type": "execute_result"
    }
   ],
   "source": [
    "[x+y for x,y in zip(ex,ex)] # 리스트 컴프리헨션 용법\n",
    "# 두 개의 ex 리스트를 순서대로 묶어서 x와 y에 하나씩 반복해서 넣고 x + y 값들을 새로운 리스트로 만들어서 반환한다."
   ]
  },
  {
   "cell_type": "markdown",
   "metadata": {},
   "source": [
    "### 2.2. reduce 함수\n",
    "\n",
    "* map() 함수와 다르지만 형제처럼 사용하는 함수로 리스트와 같은 시쿼스 자료형에 차례대로 함수를 적용하여 모든 값을 통합하는 함수이다.\n",
    "* lambda 함수와 함께 쓰여 좀 복잡해 보여 예전에는 많이 쓰였으나 최근 버전에서는 사용을 권장하지 않는다. 그러나 많은 코드들이 여전히 사용하고 있어 이해차원에서 배울 필요가 있다.\n"
   ]
  },
  {
   "cell_type": "code",
   "execution_count": 9,
   "metadata": {},
   "outputs": [
    {
     "name": "stdout",
     "output_type": "stream",
     "text": [
      "15\n"
     ]
    }
   ],
   "source": [
    "from functools import reduce #functools 모듈에서 reduce 함수를 가져온다.\n",
    "print(reduce(lambda x,y:x+y, [1,2,3,4,5])) # x와 y를 매개변수로 갖고 x + y 값을 반환하는 lambda 함수에 리스트의 요소를 차례대로 넣고 모든 값을 통합하여 출력한다.\n",
    "# ((((1+2)+3)+4)+5) 값 출력"
   ]
  },
  {
   "cell_type": "markdown",
   "metadata": {},
   "source": [
    "* 비교 코드"
   ]
  },
  {
   "cell_type": "code",
   "execution_count": 11,
   "metadata": {},
   "outputs": [
    {
     "name": "stdout",
     "output_type": "stream",
     "text": [
      "15\n"
     ]
    }
   ],
   "source": [
    "x=0 # x에 0을 할당\n",
    "for y in [1,2,3,4,5]: # y 에 리스트 값들을 반복해서 할당한다.\n",
    "    x += y # x에 x+y 값을 할당한다.\n",
    "print(x) # x 값을 출력한다. "
   ]
  },
  {
   "cell_type": "markdown",
   "metadata": {},
   "source": [
    "## 3. 별표의 활용\n",
    "\n",
    "### 3.1. 가변 인수로 활용\n",
    "\n",
    "* 가변 인수"
   ]
  },
  {
   "cell_type": "code",
   "execution_count": 12,
   "metadata": {},
   "outputs": [
    {
     "name": "stdout",
     "output_type": "stream",
     "text": [
      "1 (2, 3, 4, 5, 6)\n",
      "<class 'tuple'>\n"
     ]
    }
   ],
   "source": [
    "def asterisk_test(a, *args): # a와 가변적으로(임의의 개수로) 일반 인수를 받는 args를 매개변수로 갖는 asterisk_test 함수를 만든다.\n",
    "    print(a,args) #a의 값과 가변 인수를 출력한다.\n",
    "    print(type(args)) #가변 인수의 타입을 출력한다.\n",
    "\n",
    "asterisk_test(1,2,3,4,5,6) #1은 a의 인수로, 나머지 인수들은 args의 인수로 들어간다."
   ]
  },
  {
   "cell_type": "markdown",
   "metadata": {},
   "source": [
    "* 키워드 가변 인수"
   ]
  },
  {
   "cell_type": "code",
   "execution_count": 13,
   "metadata": {},
   "outputs": [
    {
     "name": "stdout",
     "output_type": "stream",
     "text": [
      "1 {'b': 2, 'c': 3, 'd': 4, 'e': 5, 'f': 6}\n",
      "<class 'dict'>\n"
     ]
    }
   ],
   "source": [
    "def asterisk_test(a,**kargs): # a와 가변적으로(임의의 개수로) 키워드 인수를 받는 kargs를 매개변수로 갖는 asterisk_test 함수를 만든다.\n",
    "    print(a,kargs) #a와 키워드 인수를 출력한다.\n",
    "    print(type(kargs)) #kargs의 타입을 출력한다.\n",
    "asterisk_test(1,b=2,c=3,d=4,e=5,f=6) #1은 a의 인수로, 나머지 키워드 인수들은 kargs로 들어간다."
   ]
  },
  {
   "cell_type": "markdown",
   "metadata": {},
   "source": [
    "### 3.2. 별표의 언패킹 기능\n",
    "\n",
    "* 함수에서의 사용"
   ]
  },
  {
   "cell_type": "code",
   "execution_count": 14,
   "metadata": {},
   "outputs": [
    {
     "name": "stdout",
     "output_type": "stream",
     "text": [
      "1 2 3 4 5 6\n",
      "<class 'tuple'>\n"
     ]
    }
   ],
   "source": [
    "def asterisk_test(a,args): # a와 args를 매개변수로 갖는 asterisk_test 함수를 만든다.\n",
    "    print(a,*args) #args 인수가 언패킹 되어 요소들을 묶지 않고 출력한다.\n",
    "    print(type(args)) #kargs의 타입을 출력한다.\n",
    "asterisk_test(1,(2,3,4,5,6)) #1은 a의 인수로, 나머지 인수들은 합쳐지지 않고 args의 인수로 들어가 출력된다."
   ]
  },
  {
   "cell_type": "code",
   "execution_count": 15,
   "metadata": {},
   "outputs": [
    {
     "name": "stdout",
     "output_type": "stream",
     "text": [
      "1 (2, 3, 4, 5, 6)\n",
      "<class 'tuple'>\n"
     ]
    }
   ],
   "source": [
    "def asterisk_test(a,args): # a와 args를 매개변수로 갖는 asterisk_test 함수를 만든다.\n",
    "    print(a,args) #a와 args 변수 값을 출력한다.\n",
    "    print(type(args)) #args의 타입을 출력한다.\n",
    "asterisk_test(1,(2,3,4,5,6)) #1은 a의 인수로, 나머지 인수들은 묶인 상태로 args의 인수로 들어간다."
   ]
  },
  {
   "cell_type": "markdown",
   "metadata": {},
   "source": [
    "* 일반 자료형에서의 사용"
   ]
  },
  {
   "cell_type": "code",
   "execution_count": 16,
   "metadata": {},
   "outputs": [
    {
     "name": "stdout",
     "output_type": "stream",
     "text": [
      "[1, 2] [3, 4] [5, 6]\n",
      "[1, 2] [3, 4] [5, 6]\n"
     ]
    }
   ],
   "source": [
    "a,b,c=([1,2], [3,4], [5,6]) #튜플로 묶인 리스트들을 a, b, c에 각각 할당한다.\n",
    "print(a,b,c) #a, b, c 를 출력한다.\n",
    "data=([1,2], [3,4], [5,6]) #튜플로 묶인 리스트들을 data 변수에 할당한다.\n",
    "print(*data) #data 변수가 언패킹되어 각 data의 요소들이 묶이지 않고 출력한다."
   ]
  },
  {
   "cell_type": "markdown",
   "metadata": {},
   "source": [
    "* zip 함수와의 응용"
   ]
  },
  {
   "cell_type": "code",
   "execution_count": 17,
   "metadata": {},
   "outputs": [
    {
     "name": "stdout",
     "output_type": "stream",
     "text": [
      "(1, 3, 5)\n",
      "<class 'tuple'>\n",
      "(2, 4, 6)\n",
      "<class 'tuple'>\n"
     ]
    }
   ],
   "source": [
    "for data in zip(*[[1,2],[3,4],[5,6]]): # 이중 리스트 안에서 같은 인덱스에 해당하는 요소들을 묶되 언패킹되어 data 변수에 각각 나누어 할당한다.\n",
    "    print(data) # data를 출력한다.\n",
    "    print(type(data)) # data의 타입을 출력한다."
   ]
  },
  {
   "cell_type": "markdown",
   "metadata": {},
   "source": [
    "* 키워드 가변 인수 응용"
   ]
  },
  {
   "cell_type": "code",
   "execution_count": 2,
   "metadata": {},
   "outputs": [
    {
     "name": "stdout",
     "output_type": "stream",
     "text": [
      "10 1 2 3\n"
     ]
    }
   ],
   "source": [
    "def asterisk_test(a,b,c,d): #a, b, c, d를 매개변수로 갖는 asterisk_test 함수를 만든다. \n",
    "    print(a,b,c,d) # a,b,c,d를 출력한다.\n",
    "data={\"b\":1, \"c\":2, \"d\":3} # b, c, d를 key로 1, 2, 3을 value로 각각 대응시켜 data에 할당한다.\n",
    "asterisk_test(10, **data) #딕셔너리인 data를 언패킹 하여 디셔너리의 값들이 함수의 인수로 들어가서 10과 출력된다. "
   ]
  },
  {
   "cell_type": "markdown",
   "metadata": {},
   "source": [
    "## 4. 선형대수학\n",
    "\n",
    "### 4.1. 파이썬 스타일 코드로 표현한 벡터\n"
   ]
  },
  {
   "cell_type": "code",
   "execution_count": 19,
   "metadata": {},
   "outputs": [],
   "source": [
    "vector_a=[1,2,10]  # 리스트로 표현한 경우\n",
    "vector_b=(1,2,10)   # 튜플로 표현한 경우\n",
    "vector_c={'x':1, 'y':2, 'z':10}  # 딕셔너리로 표현한 경우"
   ]
  },
  {
   "cell_type": "markdown",
   "metadata": {},
   "source": [
    "* 벡터의 연산: 벡터합\n",
    "\n",
    "$$ [2,2]+[2,3]+[3,5]=[7,10] $$"
   ]
  },
  {
   "cell_type": "code",
   "execution_count": 20,
   "metadata": {},
   "outputs": [
    {
     "name": "stdout",
     "output_type": "stream",
     "text": [
      "[7, 10]\n"
     ]
    }
   ],
   "source": [
    "u=[2,2] #리스트로 표현하여 변수 u에 할당한다.\n",
    "v=[2,3] #리스트로 표현하여 변수 v에 할당한다.\n",
    "z=[3,5] #리스트로 표현하여 변수 z에 할당한다.\n",
    "result=[] #빈 리스트를 변수 result에 할당한다.\n",
    "\n",
    "for i in range(len(u)): #u의 길이만큼 i에 반복해서 할당한다.\n",
    "    result.append(u[i]+v[i]+z[i]) #u와 i와 z의 i번째 값들를 합쳐서 result에 차례대로 추가한다.\n",
    "print(result) # result 값을 출력한다."
   ]
  },
  {
   "cell_type": "code",
   "execution_count": 21,
   "metadata": {},
   "outputs": [
    {
     "name": "stdout",
     "output_type": "stream",
     "text": [
      "[7, 10]\n"
     ]
    }
   ],
   "source": [
    "u=[2,2] #리스트로 표현하여 변수 u에 할당한다.\n",
    "v=[2,3] #리스트로 표현하여 변수 v에 할당한다.\n",
    "z=[3,5] #리스트로 표현하여 변수 z에 할당한다.\n",
    "result=[sum(t) for t in zip(u,v,z)] # u, v, z에서 같은 인덱스에 해당되는 인수들을 묶어 t로 반복해서 할당한 다음 각 t 값들의 합을 리스트로 묶어 변수 result에 할당한다.\n",
    "print(result) #result 값을 출력한다."
   ]
  },
  {
   "cell_type": "markdown",
   "metadata": {},
   "source": [
    "* 별표를 사용한 함수화"
   ]
  },
  {
   "cell_type": "code",
   "execution_count": 22,
   "metadata": {},
   "outputs": [
    {
     "data": {
      "text/plain": [
       "[7, 10]"
      ]
     },
     "execution_count": 22,
     "metadata": {},
     "output_type": "execute_result"
    }
   ],
   "source": [
    "def vector_addition(*args): #가변적으로(임의의 개수로) 일반 인수를 받는 args를 매개변수로 갖는 vector_addition 함수를 만든다.\n",
    "    return [sum(t) for t in zip(*args)]   # unpacking 통해 zip(u,v,z) 효과를 낼 수 있음.\n",
    "# args를 언패킹하여 각 인덱스의 인수들을 묶어 t로 반복해서 할당한 다음 각 t 값들의 합을 리스트로 묶어 반환한다.\n",
    "vector_addition(u,v,z) #u, v, z를 인수로 함수 실행한다."
   ]
  },
  {
   "cell_type": "markdown",
   "metadata": {},
   "source": [
    "* 간단한 두벡터의 합"
   ]
  },
  {
   "cell_type": "code",
   "execution_count": 23,
   "metadata": {},
   "outputs": [
    {
     "data": {
      "text/plain": [
       "[3, 3]"
      ]
     },
     "execution_count": 23,
     "metadata": {},
     "output_type": "execute_result"
    }
   ],
   "source": [
    "a = [1, 1] #리스트로 표현하여 변수 a에 할당한다.\n",
    "b = [2, 2] #리스트로 표현하여 변수 b에 할당한다.\n",
    "\n",
    "[x + y for x, y in zip(a, b)] #리스트 컴프리헨션\n",
    "#a와 b의 각 인덱스의 인수들을 묶어 x와 y에 각각 반복해서 할당한 다음 x+y의 값을 리스트로 묶어 출력한다. "
   ]
  },
  {
   "cell_type": "markdown",
   "metadata": {},
   "source": [
    "* 벡터의 연산: 스칼라곱\n",
    "\n",
    "$$ 2([1,2,3]+[4,4,4])=2[5,6,7]=[10,12,14] $$"
   ]
  },
  {
   "cell_type": "code",
   "execution_count": 24,
   "metadata": {},
   "outputs": [
    {
     "data": {
      "text/plain": [
       "[10, 12, 14]"
      ]
     },
     "execution_count": 24,
     "metadata": {},
     "output_type": "execute_result"
    }
   ],
   "source": [
    "u=[1,2,3] #리스트로 표현하여 변수 u에 할당한다.\n",
    "v=[4,4,4] #리스트로 표현하여 변수 v에 할당한다.\n",
    "\n",
    "alpha=2 #2를 변수 alpha에 할당한다.\n",
    "\n",
    "result=[alpha*sum(t) for t in zip(u,v)] #u와 v의 각 인덱스의 인수들을 묶어 t에 반복해서 할당하며 alpha값과 각 t의 합계를 곱한 값을 리스트로 묶어서 result에 할당한다.\n",
    "result #result 결과값 확인"
   ]
  },
  {
   "cell_type": "markdown",
   "metadata": {},
   "source": [
    "### 4.2. 파이썬 스타일코드로 표현한 행렬\n",
    "\n",
    "* 딕셔너리로 표현하는 경우 좌표정보나 이름정보를 넣을 수 있으나 복잡함"
   ]
  },
  {
   "cell_type": "code",
   "execution_count": 25,
   "metadata": {},
   "outputs": [],
   "source": [
    "matrix_a=[[3,6], [4,5]] #리스트로 표현한 경우\n",
    "matrix_b=[(3,6), (4,5)] #튜플로 표현한 경우\n",
    "matrix_c={(0,0):3, (0,1):6, (1,0):4, (1,1):5}  #디셔너리로 표현한경우"
   ]
  },
  {
   "cell_type": "markdown",
   "metadata": {},
   "source": [
    "* 행렬의 연산: 행렬의 elemnet-wise 합"
   ]
  },
  {
   "cell_type": "code",
   "execution_count": 26,
   "metadata": {},
   "outputs": [
    {
     "name": "stdout",
     "output_type": "stream",
     "text": [
      "[[8, 14], [10, 12]]\n"
     ]
    }
   ],
   "source": [
    "matrix_a=[[3,6], [4,5]] #행렬을 리스트로 표현하여 할당한다.\n",
    "matrix_b=[[5,8], [6,7]] #행렬을 리스트로 표현하여 할당한다.\n",
    "\n",
    "result=[[sum(row) for row in zip(*t)] for t in zip(matrix_a, matrix_b)]\n",
    "# matrix_a와 matrix_b에서 같은 인덱스의 해당하는 인수들을 묶어 t로 반복해서 할당하고 t를 언패킹하여 같은 인덱스에 해당하는 인수들을 묶어 row에 반복해서 할당한다.\n",
    "# row의 합을 리스트로 묶어서 result에 할당한다.\n",
    "print(result) #result의 값을 출력한다."
   ]
  },
  {
   "cell_type": "markdown",
   "metadata": {},
   "source": [
    "# 실습코드\n",
    "------------"
   ]
  },
  {
   "cell_type": "markdown",
   "metadata": {},
   "source": [
    "## 주민등록번호로 성별 찾기 with map\n",
    "\n",
    "PR6에서 split을 활용하여 주민등록번호 뒷자리의 맨 첫 번째 숫자를 추출하여 성별을 알아내는 과정을 구현하였다. 이번에는 여러개의 요소를 가지는 다음과 같은 리스트에서 성별을 찾는 과정을 맵리듀스를 이용해 간단하게 구현해보자.\n",
    "\n",
    "```python\n",
    "pins = [\"891120-1234567\", \"931120-2335567\", \"911120-1234234\", \"951120-1234567\"]\n",
    "```\n",
    ">Q: lambda와 map을 사용하여 위의 리스트에서 출력결과 예시와 같이 성별을 나타내는 값을 추출하시오.\n",
    "\n",
    "### 출력 결과 예시\n",
    "\n",
    "```python\n",
    "## CODE\n",
    "\n",
    "## ['1', '2', '1', '1']\n",
    "```\n",
    "\n",
    "### HINT\n",
    "1. lambda 함수로 주민등록번호 문자열에서 성별을 추출하는 과정을 구현한다.\n",
    "2. map 함수에 해당 lambda함수와 주민등록번호 리스트를 입력한다.\n",
    "3. __실습코드 2.1.__ 에서 map 과 lambda를 어떻게 함께 사용하는지와 결과를 list로 출력하는 과정을 참고하세요."
   ]
  },
  {
   "cell_type": "code",
   "execution_count": 27,
   "metadata": {},
   "outputs": [
    {
     "data": {
      "text/plain": [
       "['1', '2', '1', '1']"
      ]
     },
     "execution_count": 27,
     "metadata": {},
     "output_type": "execute_result"
    }
   ],
   "source": [
    "pins = [\"891120-1234567\", \"931120-2335567\", \"911120-1234234\", \"951120-1234567\"] #문자열을 pins에 할당한다.\n",
    "\n",
    "list(map(lambda x: x.split(\"-\")[1][0], pins)) # x를 매개변수로 갖고 x를 -을 구분자로 나누어 두번째 인수의 첫부분을 반환하는 lambda 함수를 pins의 각 요소에 매핑한 값을 리스트로 묶는다."
   ]
  },
  {
   "cell_type": "markdown",
   "metadata": {},
   "source": [
    "# 도전문제\n",
    "------------"
   ]
  },
  {
   "cell_type": "markdown",
   "metadata": {},
   "source": [
    "## 벡터의 내적\n",
    "\n",
    "크기가 같은 두 벡터의 내적은 벡터의 각 성분별 곱한 값을 더해준 값이다.\n",
    "\n",
    "$$ v1∗w1+⋯+vn∗wn $$\n",
    "\n",
    ">Q: 크기가 같은 두 벡터 (list 형태)를 받으면 이를 내적한 값을 도출하는 함수 dot을 구현하고, 이를 활용하여 a=[1, 2], b=[3,4]를 내적한 값을 구하시오.\n",
    "\n",
    "### HINT\n",
    "1. __실습코드 4.1.__ 에서는 벡터의 합과 곱에 대한 연산만을 다루고 있습니다. 이중 __간단한 벡터의 합__ 에서 리스트 컴프리헨션을 사용한 방법에서 연산을 바꾸면 각 벡터별 곱을 간단히 구할 수 있습니다."
   ]
  },
  {
   "cell_type": "code",
   "execution_count": 28,
   "metadata": {},
   "outputs": [
    {
     "data": {
      "text/plain": [
       "11"
      ]
     },
     "execution_count": 28,
     "metadata": {},
     "output_type": "execute_result"
    }
   ],
   "source": [
    "a = [1, 2] #리스트로 표현하여 변수 a에 할당한다.\n",
    "b = [3, 4] #리스트로 표현하여 변수 b에 할당한다.\n",
    "\n",
    "dot = lambda a,b : sum([x*y for x, y in zip(a, b)])\n",
    "#a와 b를 매개 변수로 가지는 lambda 함수는 a와 b에서 같은 인덱스에 해당하는 요소를 묶어 x와 y에 각각 할당하여 x*y 값을 리스트로 묶어 모두 합한다.\n",
    "#lambda 함수를 dot에 할당한다.\n",
    "\n",
    "dot(a,b) # a와 b를 인수로 dot 함수를 실행한다."
   ]
  }
 ],
 "metadata": {
  "kernelspec": {
   "display_name": "Python 3",
   "language": "python",
   "name": "python3"
  },
  "language_info": {
   "codemirror_mode": {
    "name": "ipython",
    "version": 3
   },
   "file_extension": ".py",
   "mimetype": "text/x-python",
   "name": "python",
   "nbconvert_exporter": "python",
   "pygments_lexer": "ipython3",
   "version": "3.8.3"
  }
 },
 "nbformat": 4,
 "nbformat_minor": 4
}
